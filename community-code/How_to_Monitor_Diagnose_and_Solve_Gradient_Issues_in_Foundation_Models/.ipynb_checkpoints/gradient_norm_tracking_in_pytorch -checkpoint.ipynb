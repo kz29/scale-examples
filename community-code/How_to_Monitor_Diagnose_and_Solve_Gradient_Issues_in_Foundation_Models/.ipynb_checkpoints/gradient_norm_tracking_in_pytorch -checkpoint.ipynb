{
 "cells": [
  {
   "cell_type": "code",
   "execution_count": 10,
   "id": "0",
   "metadata": {},
   "outputs": [],
   "source": [
    "import torch\n",
    "from transformers import BertTokenizer, BertForSequenceClassification\n",
    "from transformers import DataCollatorWithPadding\n",
    "from datasets import load_dataset\n",
    "from torch.utils.data import DataLoader\n",
    "from random import random\n",
    "from neptune_scale import Run\n",
    "from transformers import AdamW\n",
    "import torch.optim as optim\n"
   ]
  },
  {
   "cell_type": "code",
   "execution_count": 2,
   "id": "1",
   "metadata": {},
   "outputs": [],
   "source": [
    "device = torch.device(\"cuda\" if torch.cuda.is_available() else \"cpu\")"
   ]
  },
  {
   "cell_type": "markdown",
   "id": "2",
   "metadata": {},
   "source": [
    "# Step 1. Load and Preprocess Dataset\n",
    "We will use the GLUE dataset and transformers from HuggingFace. "
   ]
  },
  {
   "cell_type": "code",
   "execution_count": 12,
   "id": "3",
   "metadata": {},
   "outputs": [],
   "source": [
    "dataset = load_dataset(\"glue\", name=\"mrpc\")\n",
    "tokenizer = BertTokenizer.from_pretrained(\"bert-base-uncased\")\n",
    "\n",
    "\n",
    "def tokenize_function(examples):\n",
    "    return tokenizer(\n",
    "        examples[\"sentence1\"],\n",
    "        examples[\"sentence2\"],\n",
    "        truncation=True,\n",
    "        padding=\"longest\",\n",
    "        return_tensors=\"pt\",\n",
    "    )\n",
    "\n",
    "tokenized_datasets = dataset.map(tokenize_function, batched=True)\n",
    "tokenized_datasets.set_format(type=\"torch\", columns=[\"input_ids\", \"attention_mask\", \"token_type_ids\", \"label\"])\n"
   ]
  },
  {
   "cell_type": "markdown",
   "id": "4",
   "metadata": {},
   "source": [
    "# Step 2. Prepare the Dataloaders and load the Bert model for sequence classification\n"
   ]
  },
  {
   "cell_type": "code",
   "execution_count": 13,
   "id": "5",
   "metadata": {},
   "outputs": [
    {
     "data": {
      "text/plain": [
       "BertForSequenceClassification(\n",
       "  (bert): BertModel(\n",
       "    (embeddings): BertEmbeddings(\n",
       "      (word_embeddings): Embedding(30522, 768, padding_idx=0)\n",
       "      (position_embeddings): Embedding(512, 768)\n",
       "      (token_type_embeddings): Embedding(2, 768)\n",
       "      (LayerNorm): LayerNorm((768,), eps=1e-12, elementwise_affine=True)\n",
       "      (dropout): Dropout(p=0.0, inplace=False)\n",
       "    )\n",
       "    (encoder): BertEncoder(\n",
       "      (layer): ModuleList(\n",
       "        (0-11): 12 x BertLayer(\n",
       "          (attention): BertAttention(\n",
       "            (self): BertSelfAttention(\n",
       "              (query): Linear(in_features=768, out_features=768, bias=True)\n",
       "              (key): Linear(in_features=768, out_features=768, bias=True)\n",
       "              (value): Linear(in_features=768, out_features=768, bias=True)\n",
       "              (dropout): Dropout(p=0.0, inplace=False)\n",
       "            )\n",
       "            (output): BertSelfOutput(\n",
       "              (dense): Linear(in_features=768, out_features=768, bias=True)\n",
       "              (LayerNorm): LayerNorm((768,), eps=1e-12, elementwise_affine=True)\n",
       "              (dropout): Dropout(p=0.0, inplace=False)\n",
       "            )\n",
       "          )\n",
       "          (intermediate): BertIntermediate(\n",
       "            (dense): Linear(in_features=768, out_features=3072, bias=True)\n",
       "            (intermediate_act_fn): GELUActivation()\n",
       "          )\n",
       "          (output): BertOutput(\n",
       "            (dense): Linear(in_features=3072, out_features=768, bias=True)\n",
       "            (LayerNorm): LayerNorm((768,), eps=1e-12, elementwise_affine=True)\n",
       "            (dropout): Dropout(p=0.0, inplace=False)\n",
       "          )\n",
       "        )\n",
       "      )\n",
       "    )\n",
       "    (pooler): BertPooler(\n",
       "      (dense): Linear(in_features=768, out_features=768, bias=True)\n",
       "      (activation): Tanh()\n",
       "    )\n",
       "  )\n",
       "  (dropout): Dropout(p=0.0, inplace=False)\n",
       "  (classifier): Linear(in_features=768, out_features=2, bias=True)\n",
       ")"
      ]
     },
     "execution_count": 13,
     "metadata": {},
     "output_type": "execute_result"
    }
   ],
   "source": [
    "train_dataset = (\n",
    "    tokenized_datasets[\"train\"].shuffle(seed=42).select(range(1000))\n",
    ")  # Sample for demonstration\n",
    "\n",
    "data_collator = DataCollatorWithPadding(tokenizer=tokenizer)\n",
    "\n",
    "train_dataloader = DataLoader(train_dataset, shuffle=True, batch_size=8, collate_fn=data_collator)\n",
    "\n",
    "tokenized_datasets = dataset.map(tokenize_function, batched=True)\n",
    "tokenized_datasets.set_format(\n",
    "    type=\"torch\", columns=[\"input_ids\", \"attention_mask\", \"token_type_ids\", \"label\"]\n",
    ")\n",
    "\n",
    "# model = BertForSequenceClassification.from_pretrained('bert-base-uncased')\n",
    "# # Move model to device\n",
    "# model.to(device)\n",
    "\n",
    "from transformers import BertConfig, BertForSequenceClassification\n",
    "\n",
    "# Random BERT config with no LayerNorm or Dropout\n",
    "config = BertConfig(\n",
    "    hidden_dropout_prob=0.0,\n",
    "    attention_probs_dropout_prob=0.0,\n",
    "    num_hidden_layers=12,\n",
    "    num_attention_heads=12,\n",
    "    hidden_size=768,\n",
    "    intermediate_size=3072,\n",
    "    layer_norm_eps=1e-12,\n",
    "    output_attentions=False,\n",
    "    output_hidden_states=False,\n",
    "    num_labels=2,\n",
    ")\n",
    "\n",
    "\n",
    "# config = BertConfig(hidden_dropout_prob=0.5)  # Add more dropout\n",
    "model = BertForSequenceClassification(config)  # Not pretrained\n",
    "model.to(device)"
   ]
  },
  {
   "cell_type": "markdown",
   "id": "8",
   "metadata": {},
   "source": [
    "# Step 3. Initialize Neptune for Logging\n"
   ]
  },
  {
   "cell_type": "code",
   "execution_count": 14,
   "id": "9",
   "metadata": {},
   "outputs": [
    {
     "name": "stderr",
     "output_type": "stream",
     "text": [
      "2025-06-04 12:19:25,126 \u001b[94mneptune\u001b[0m:\u001b[1mINFO\u001b[0m: Data synchronization started\n"
     ]
    }
   ],
   "source": [
    "run = Run(\n",
    "    api_token=\"YOUR_API_TOKEN\",# replace with your Neptune API token\n",
    "    project=\"YOUR_WORKSPACE/YOUR_PROJECT\", # replace with your workspace and project name\n",
    "    experiment_name=\"gradient_tracking_lr=1\"\n",
    ")\n",
    "\n",
    "run.log_configs(\n",
    "    {\n",
    "        \"learning_rate\": 1,\n",
    "        \"batch_size\": 1,\n",
    "        \"optimizer\": \"Adam\",\n",
    "    }\n",
    ")\n",
    "run.add_tags([\"gradient_tracking\", \"pytorch\", \"transformers\"])"
   ]
  },
  {
   "cell_type": "markdown",
   "id": "10",
   "metadata": {},
   "source": [
    "# Step 4. Define the Gradient Norm Logging Function\n",
    "\n"
   ]
  },
  {
   "cell_type": "code",
   "execution_count": 15,
   "id": "11",
   "metadata": {},
   "outputs": [],
   "source": [
    "def log_gradient_norms(model, step, log_every_n_steps=1):\n",
    "    \n",
    "    \"\"\"\n",
    "    Logs L2 norm of gradients for model parameters every n steps using torch.no_grad.\n",
    "    \n",
    "    Args:\n",
    "        model (torch.nn.Module): The neural network model.\n",
    "        step (int): The current training step or epoch, for tracking.\n",
    "        log_every_n_steps (int): Log only every n steps to reduce overhead.\n",
    "    \"\"\"\n",
    "\n",
    "    if step % log_every_n_steps != 0:\n",
    "        return  # Skip logging for this step\n",
    "\n",
    "    with torch.no_grad():  # Prevent building a computation graph during norm computation\n",
    "        for name, param in model.named_parameters():\n",
    "            if param.grad is not None:\n",
    "                # Optional: skip small/irrelevant layers if needed\n",
    "                # if not name.startswith(\"encoder.layer.\"): continue\n",
    "                \n",
    "                grad_norm = param.grad.norm().item()\n",
    "                run.log_metrics({f\"gradients/{name}\": grad_norm}, step=step)\n"
   ]
  },
  {
   "cell_type": "markdown",
   "id": "12",
   "metadata": {},
   "source": [
    "# Step 5. Train the Model and Track Gradients\n"
   ]
  },
  {
   "cell_type": "code",
   "execution_count": null,
   "id": "13",
   "metadata": {},
   "outputs": [],
   "source": [
    "optimizer = optim.Adam(model.parameters(), lr=1)\n",
    "\n",
    "model.train()\n",
    "for epoch in range(10):\n",
    "    for step, batch in enumerate(train_dataloader):\n",
    "        inputs = {k: v.to(device) for k, v in batch.items() if k in tokenizer.model_input_names}\n",
    "        labels = batch[\"labels\"].to(device)\n",
    "        optimizer.zero_grad()\n",
    "        outputs = model(**inputs, labels=labels)\n",
    "        loss = outputs.loss\n",
    "        loss.backward()\n",
    "\n",
    "        # Log gradient norms\n",
    "        log_gradient_norms(model, step + epoch * len(train_dataloader))\n",
    "\n",
    "        optimizer.step()\n",
    "\n",
    "        # Log Loss to Neptune Scale\n",
    "        run.log_metrics({\"loss\": loss.item()}, step=step + epoch * len(train_dataloader))\n",
    "\n",
    "# Close the run\n",
    "run.close()"
   ]
  },
  {
   "cell_type": "code",
   "execution_count": null,
   "id": "a5458395",
   "metadata": {},
   "outputs": [],
   "source": []
  }
 ],
 "metadata": {
  "kernelspec": {
   "display_name": "OCM",
   "language": "python",
   "name": "ocm"
  },
  "language_info": {
   "codemirror_mode": {
    "name": "ipython",
    "version": 3
   },
   "file_extension": ".py",
   "mimetype": "text/x-python",
   "name": "python",
   "nbconvert_exporter": "python",
   "pygments_lexer": "ipython3",
   "version": "3.9.7"
  }
 },
 "nbformat": 4,
 "nbformat_minor": 5
}
